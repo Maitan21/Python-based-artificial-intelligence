{
 "metadata": {
  "language_info": {
   "codemirror_mode": {
    "name": "ipython",
    "version": 3
   },
   "file_extension": ".py",
   "mimetype": "text/x-python",
   "name": "python",
   "nbconvert_exporter": "python",
   "pygments_lexer": "ipython3",
   "version": "3.8.2-final"
  },
  "orig_nbformat": 2,
  "kernelspec": {
   "name": "python38264bit8ff77237041f41648c23adae8530c9f4",
   "display_name": "Python 3.8.2 64-bit"
  }
 },
 "nbformat": 4,
 "nbformat_minor": 2,
 "cells": [
  {
   "cell_type": "code",
   "execution_count": 2,
   "metadata": {},
   "outputs": [],
   "source": [
    "import numpy\n",
    "import sklearn\n",
    "import matplotlib as mp\n",
    "import scipy as sp\n",
    "import statsmodels as sm\n",
    "import pandas as pd"
   ]
  },
  {
   "cell_type": "code",
   "execution_count": 3,
   "metadata": {
    "tags": []
   },
   "outputs": [
    {
     "output_type": "stream",
     "name": "stdout",
     "text": "\n\n== Module Version Check ==\nNumpy version : 1.18.2\nScikit-learn version : 0.22.2.post1\nMatplotlib version : 0.22.2.post1\nPandas version : 1.0.3\nStatsmodels version : 0.11.1\n\n\n"
    }
   ],
   "source": [
    "print(\"\\n\")\n",
    "print(\"== Module Version Check ==\")\n",
    "print(\"Numpy version : {0}\".format(numpy.__version__))\n",
    "print(\"Scikit-learn version : {0}\".format(sklearn.__version__))\n",
    "print(\"Matplotlib version : {0}\".format(sklearn.__version__))\n",
    "print(\"Pandas version : {0}\".format(pd.__version__))\n",
    "print(\"Statsmodels version : {0}\".format(sm.__version__))\n",
    "print(\"\\n\")"
   ]
  }
 ]
}