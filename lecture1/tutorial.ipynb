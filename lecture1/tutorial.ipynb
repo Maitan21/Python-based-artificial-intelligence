{
 "metadata": {
  "language_info": {
   "codemirror_mode": {
    "name": "ipython",
    "version": 3
   },
   "file_extension": ".py",
   "mimetype": "text/x-python",
   "name": "python",
   "nbconvert_exporter": "python",
   "pygments_lexer": "ipython3",
   "version": "3.8.2-final"
  },
  "orig_nbformat": 2,
  "kernelspec": {
   "name": "python38264bit8ff77237041f41648c23adae8530c9f4",
   "display_name": "Python 3.8.2 64-bit"
  }
 },
 "nbformat": 4,
 "nbformat_minor": 2,
 "cells": [
  {
   "cell_type": "code",
   "execution_count": null,
   "metadata": {},
   "outputs": [],
   "source": [
    "#urllib 라이브러리 input\n",
    "import urllib.request"
   ]
  },
  {
   "cell_type": "code",
   "execution_count": null,
   "metadata": {
    "tags": []
   },
   "outputs": [],
   "source": [
    "#url 과 저장할 이름 설정\n",
    "url= \"http://uta.pw/shodou/img/28/214.png\"\n",
    "savename = \"test.png\""
   ]
  },
  {
   "cell_type": "code",
   "execution_count": null,
   "metadata": {},
   "outputs": [],
   "source": [
    "#request를 통해 파일 저장\n",
    "urllib.request.urlretrieve(url,savename)\n",
    "print(\"저장되었습니다...!\")"
   ]
  }
 ]
}